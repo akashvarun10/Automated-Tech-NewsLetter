{
 "cells": [
  {
   "cell_type": "code",
   "execution_count": 1,
   "metadata": {},
   "outputs": [
    {
     "name": "stdout",
     "output_type": "stream",
     "text": [
      "Related channels for query 'technology':\n",
      "Channel Title: House Technology\n",
      "Channel ID: UCf9phz2kU2DaJBwDATTD05Q\n",
      "\n",
      "\n",
      "Channel Title: IBM Technology\n",
      "Channel ID: UCKWaEZ-_VweaEx1j62do_vQ\n",
      "\n",
      "\n",
      "Channel Title: Technology for Teachers and Students\n",
      "Channel ID: UCYUPLUCkMiUgiyVuluCc7tQ\n",
      "\n",
      "\n",
      "Channel Title: Hidden Technology\n",
      "Channel ID: UC9HFMty5k4jdj36wV4E4Iuw\n",
      "\n",
      "\n",
      "Channel Title: Brick Technology\n",
      "Channel ID: UCUuvZ0skL2WYZ3rhPMZbfdA\n",
      "\n",
      "\n"
     ]
    }
   ],
   "source": [
    "import os\n",
    "from googleapiclient.discovery import build\n",
    "from dotenv import load_dotenv\n",
    "load_dotenv()\n",
    "import os \n",
    "# Set your API key\n",
    "api_key = os.getenv(\"YOUTUBE_API_KEY\")\n",
    "\n",
    "def get_related_channels(search_query, max_results=5):\n",
    "    youtube = build(\"youtube\", \"v3\", developerKey=api_key)\n",
    "\n",
    "    # Retrieve related channels based on the search query\n",
    "    response = youtube.search().list(\n",
    "        part=\"snippet\",\n",
    "        q=search_query,\n",
    "        type=\"channel\",\n",
    "        maxResults=max_results,\n",
    "    ).execute()\n",
    "\n",
    "    return response.get(\"items\", [])\n",
    "\n",
    "def main():\n",
    "    search_query = \"technology\"  # Replace with your desired search query\n",
    "    max_results = 5  # Set the maximum number of related channels to retrieve\n",
    "\n",
    "    related_channels = get_related_channels(search_query, max_results)\n",
    "\n",
    "    if related_channels:\n",
    "        print(f\"Related channels for query '{search_query}':\")\n",
    "        for channel in related_channels:\n",
    "            print(f\"Channel Title: {channel['snippet']['title']}\")\n",
    "            print(f\"Channel ID: {channel['id']['channelId']}\")\n",
    "            print(\"\\n\")\n",
    "    else:\n",
    "        print(f\"No related channels found for query '{search_query}'.\")\n",
    "\n",
    "if __name__ == \"__main__\":\n",
    "    main()\n"
   ]
  },
  {
   "cell_type": "code",
   "execution_count": null,
   "metadata": {},
   "outputs": [],
   "source": []
  }
 ],
 "metadata": {
  "kernelspec": {
   "display_name": "ev",
   "language": "python",
   "name": "python3"
  },
  "language_info": {
   "codemirror_mode": {
    "name": "ipython",
    "version": 3
   },
   "file_extension": ".py",
   "mimetype": "text/x-python",
   "name": "python",
   "nbconvert_exporter": "python",
   "pygments_lexer": "ipython3",
   "version": "3.9.10"
  }
 },
 "nbformat": 4,
 "nbformat_minor": 2
}
