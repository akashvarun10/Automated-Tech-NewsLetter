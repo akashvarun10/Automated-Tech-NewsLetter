{
 "cells": [
  {
   "cell_type": "code",
   "execution_count": 1,
   "metadata": {},
   "outputs": [],
   "source": [
    "from tqdm import tqdm"
   ]
  },
  {
   "cell_type": "code",
   "execution_count": 2,
   "metadata": {},
   "outputs": [],
   "source": [
    "import asyncio\n",
    "from langchain.callbacks import get_openai_callback\n",
    "from langchain.document_loaders import YoutubeLoader\n",
    "from langchain import OpenAI\n",
    "from langchain.chains.summarize import load_summarize_chain\n",
    "from langchain.text_splitter import RecursiveCharacterTextSplitter"
   ]
  },
  {
   "cell_type": "code",
   "execution_count": 3,
   "metadata": {},
   "outputs": [
    {
     "name": "stdout",
     "output_type": "stream",
     "text": [
      "<class 'list'>\n"
     ]
    }
   ],
   "source": [
    "loader = YoutubeLoader.from_youtube_url(\"https://youtu.be/hoadr1QY3pk?si=z3Q508O-rlLiKGZX\")\n",
    "result = loader.load()\n",
    "print(type(result))"
   ]
  },
  {
   "cell_type": "code",
   "execution_count": 4,
   "metadata": {},
   "outputs": [],
   "source": [
    "text_splitter = RecursiveCharacterTextSplitter(chunk_size=2000,chunk_overlap=20)\n",
    "texts = text_splitter.split_documents(result)"
   ]
  },
  {
   "cell_type": "code",
   "execution_count": 5,
   "metadata": {},
   "outputs": [
    {
     "data": {
      "text/plain": [
       "[Document(page_content=\"guys I just found a blockchain developer making over $4,000 per day with their trading bot all 100% verifiable on the blockchain and that's one of the reasons I love being a blockchain developer is there's so many different ways to make money with these skills and you have open access to a brand new Financial ecosystem where you can create trading Bots that make you passive income while you sleep and in this video I'm going to break down a real life example of exactly how this works step by step and how you can learn the skills to try this yourself I'm going to talk about all this as a blockchain developer myself who's built multiple profitable trading Bots and I'm always refining how I do this and I like to share what I learn with you on this channel and so if you're new around here hey I'm Gregory and on this channel I turn you into a blockchain master so if that's something that you're interested in then smash that like button down below for the YouTube algorithm And subscribe to this Channel all right so let's get into this let's look at this real life example of a blockchain developer making over $4,000 per day with their training bot 100% verifiable on the blockchain I've got this transaction pull my screen screen here that we're going to go through in a minute as to see how this works but let me just kind of break this down first uh you have to understand what this trading butt is and how it works this is not a algorithmic trading bot that tries to predict what future cryptocurrency prices are going to do and then buy and sell based on this information this is an Arbitrage based Crypt trading bot that takes advantage of opportunities right now that happen on the blockchain and it uses flash loan so it doesn't even need the money that's going to trade and it can't lose any of this money and so I'm going to break down how everything works in this video today but if you want to see how to create your own Arbitrage crypto trading bot just like this then that's\", metadata={'source': 'hoadr1QY3pk'}),\n",
       " Document(page_content=\"this then that's exactly what I'm going to show you inside the trading by master class this Thursday January 11th so make sure you hold your spot the link down below today all right so let's get back to what this developers doing here so again if you're doing the math over $4,000 per day adds up to roughly $120,000 per month in pure profit so that's absolutely insane right that's more than most people make their jobs in an entire year so I want to demystify how this process works and look at this real life example of a transaction where they made $3,500 roughly in profit all in one one go and how you can rinse and repeat this to where these profits can add up over time to get the type of result that they're talking about so you can see all the steps of the transaction here which is you know completely transparent all here on the blockchain you can just look at this on ether scan to see how it works we're going to break down each step here in a second but I want to start off with a simple example now before we fill in the details just you can get the high level overview and then we'll fill in the exact details of this particular transaction to see what they're doing all right so here's a high level diagram of how this works okay before we get into the specifics of this transaction so first of all you have to understand how Arbitrage works in the first place you're basically just buying cryptocurrency on one exchange and selling it on another exchange for a profit so basically if you bought $100 of cryptocurrency on one exchange and could sell on a different exchange for $101 because these cryptocurrency exchanges fall a sync you can make a $1 profit okay now that doesn't sound great but what if you did that with a th000 units of the cryptocurrency that'd be $1,000 in profit or you did it over and over and over again that could quickly add up okay and then the other aspect of this is The Flash loans so basically you can borrow the money for trading from a flash loan\", metadata={'source': 'hoadr1QY3pk'}),\n",
       " Document(page_content=\"from a flash loan provider are just like this so you don't even have to have the money that you're trading and you can't lose it like the blockchain won't let you do that so basically the steps are and and then finally you have a trading contract that orchestrates this whole process it's just a smart contract that you put in the blockchain and it executes these steps like you know borrow the money swap the tokens swap it on a different exchange pocket the profit and that's exactly what this does so basically you have a developer wallet it talks to your trading contract okay which then talks to the flash loan provider to get the tokens that you want to trade in this case token one it swaps them on Exchange one for token two and then it swaps it on Exchange two back for token 1 and then it Pockets The Profit now that was a simple overview of how the highle process works but here's a much more detailed diagram that breaks down this particular transaction that you can see on ether scan because basically anytime you look at a transaction ether scan it'll show you all these steps but sometimes it's kind of difficult to demystify that process if you don't really understand what you're reading and you could go through that yourself but I'm going to show you a diagram of exactly what this developed velers doing to make this profit so basically um it looks roughly like what we did before but there's the the details are filled in okay so in the last diagram we kind of talked about just you know token one token 2 exchange one exchange two flash Lo provider blah blah blah but I'm actually going to give names to each one of these entities so that you can understand it so in terms of the uh exchanges first we're going to actually look at Unis Swap all right so the first exchange is unis swap uh version three okay that's one of most popular exchanges out there and the other uh cryptocurrency Exchange in this case is solidly okay so both of these are two different decentralized\", metadata={'source': 'hoadr1QY3pk'}),\n",
       " Document(page_content=\"decentralized exchanges that are on top of the ethereum blockchain so this is exchange one okay and this is exchange two now in terms of the cryptocurrencies we are looking at WRA ether uh which is the erc20 version of the ethereum cryptocurrency E and then the other token is going to be the chain link token all right so this is another erc20 token now in terms of The Flash loan provider the who you're actually borrowing money from uh this is going to be the balancer flash loan uh pool okay so balancer is just a di5 protocol and they support Flash loans and you can see the developer documentation right here this is one of my favorite uh flash Lo providers to use and so now that we have names and faces to everything let's talk about how this works so Step One is a developer wallet talks to the trading contract okay and then the first step in the trading contract is to borrow wrapped ether or we from the balancer Vault okay then that goes back to the trading contract and then it gives whe it swaps it on Unis swap version three for the chain link token or the link token all right once that's done the trading contract has possession of those tokens and then it gives link to solidly this is the second decentralized exchange and then it gets back uh wrapped e which is the original currency that it borrowed so instead of you know giving it back to the contract and then paying paying back the loan it automatically repays uh the uh wrapped ether that it received straight to the balancer Vault okay instead of you moving back to the contract first because you can specify the recipient doesn't have to be yourself that satisfies The Flash loans and once that's finished uh the trading contract actually takes the wrapped ether that it has possession of and it converts it with the wrapped ether contract back to regular eth okay that's one feature you can do with wrapped ether and then finally it pays a transaction fee to the transaction Builder and then Pockets the difference\", metadata={'source': 'hoadr1QY3pk'}),\n",
       " Document(page_content=\"the difference which is about 1.6 eth which is about $3,500 at the time of recording this video all right so now that's an exact breakdown step by step what this developers doing to generate over $4,000 per day in passive income with their trading bot okay so you can kind of see how you can take this simple example and then fill in the details to actually create your own strategy to make profitable Arbitrage transaction now let me talk about this opportunity because once you understand these fundamental and how to do this then you can start to create your own strategies and that's why I want to make this video is to show you an example of this you know kind of simple strategy with concrete details uh 100% verifiable on the blockchain so basically what you can do is you can just tweak all these variables okay you have multiple variables here the tokens you're trading okay the um cryptocurrency exchanges that you're doing Arbitrage between the flash loan provider and then also the blockchain itself and once you start mixing and matching these variables you have a nearly infinite number of combinations to find opportunities that other people aren't necessarily doing and that's one of the best ways to succeed in this space is to create your own strategies and do something that nobody else is so for example I just talked about two different cryptocurrency exchanges okay uh Unis Swap and then solidly but there are literally hundreds of exchanges that you could try this on which you can see on a website like defil llama.com so even if you use these exact same exchanges you could do thousands of different cryptocurrencies okay if you look at at just the number of tokens that are uh deployed to ethereum alone uh there's over a thousand indexed on ether scan there's way more erc20 tokens in that and then also once you have these skills you could apply this to any evm compatible blockchain because the smart contracts that we're talking about here work on ethereum they can\", metadata={'source': 'hoadr1QY3pk'}),\n",
       " Document(page_content=\"ethereum they can move to any other evm chain like Tron binance smart chain Avalanche any of the ethereum layer 2os like optimism arbitrum base doesn't matter and if you want to learn the skills to do exactly what I'm talking about in this video today then make sure you your spot with the link down below for the trading Bot Master Class this Thursday inside I'm going to show you to create your own blockchain based Arbitrage trading bot with flash loans so trust me you don't want to miss this so that's all I got for today and until next time thanks for watching dap University\", metadata={'source': 'hoadr1QY3pk'})]"
      ]
     },
     "execution_count": 5,
     "metadata": {},
     "output_type": "execute_result"
    }
   ],
   "source": [
    "texts"
   ]
  },
  {
   "cell_type": "code",
   "execution_count": 6,
   "metadata": {},
   "outputs": [
    {
     "data": {
      "text/plain": [
       "True"
      ]
     },
     "execution_count": 6,
     "metadata": {},
     "output_type": "execute_result"
    }
   ],
   "source": [
    "from dotenv import load_dotenv\n",
    "import os\n",
    "load_dotenv()"
   ]
  },
  {
   "cell_type": "code",
   "execution_count": 7,
   "metadata": {},
   "outputs": [],
   "source": [
    "api_key = os.getenv(\"OPENAI_API_KEY\")\n"
   ]
  },
  {
   "cell_type": "code",
   "execution_count": 8,
   "metadata": {},
   "outputs": [
    {
     "name": "stderr",
     "output_type": "stream",
     "text": [
      "/opt/homebrew/Caskroom/miniforge/base/envs/langchain/lib/python3.9/site-packages/langchain_community/llms/openai.py:249: UserWarning: You are trying to use a chat model. This way of initializing it is no longer supported. Instead, please use: `from langchain_community.chat_models import ChatOpenAI`\n",
      "  warnings.warn(\n",
      "/opt/homebrew/Caskroom/miniforge/base/envs/langchain/lib/python3.9/site-packages/langchain_community/llms/openai.py:1070: UserWarning: You are trying to use a chat model. This way of initializing it is no longer supported. Instead, please use: `from langchain_community.chat_models import ChatOpenAI`\n",
      "  warnings.warn(\n"
     ]
    }
   ],
   "source": [
    "llm = OpenAI(temperature=0,model_name=\"gpt-3.5-turbo\", api_key=api_key)\n"
   ]
  },
  {
   "cell_type": "code",
   "execution_count": 9,
   "metadata": {},
   "outputs": [
    {
     "name": "stderr",
     "output_type": "stream",
     "text": [
      "/opt/homebrew/Caskroom/miniforge/base/envs/langchain/lib/python3.9/site-packages/langchain_core/_api/deprecation.py:117: LangChainDeprecationWarning: The function `run` was deprecated in LangChain 0.1.0 and will be removed in 0.2.0. Use invoke instead.\n",
      "  warn_deprecated(\n"
     ]
    },
    {
     "name": "stdout",
     "output_type": "stream",
     "text": [
      "\n",
      "\n",
      "\u001b[1m> Entering new StuffDocumentsChain chain...\u001b[0m\n",
      "\n",
      "\n",
      "\u001b[1m> Entering new LLMChain chain...\u001b[0m\n",
      "Prompt after formatting:\n",
      "\u001b[32;1m\u001b[1;3mWrite a concise summary of the following:\n",
      "\n",
      "\n",
      "\"guys I just found a blockchain developer making over $4,000 per day with their trading bot all 100% verifiable on the blockchain and that's one of the reasons I love being a blockchain developer is there's so many different ways to make money with these skills and you have open access to a brand new Financial ecosystem where you can create trading Bots that make you passive income while you sleep and in this video I'm going to break down a real life example of exactly how this works step by step and how you can learn the skills to try this yourself I'm going to talk about all this as a blockchain developer myself who's built multiple profitable trading Bots and I'm always refining how I do this and I like to share what I learn with you on this channel and so if you're new around here hey I'm Gregory and on this channel I turn you into a blockchain master so if that's something that you're interested in then smash that like button down below for the YouTube algorithm And subscribe to this Channel all right so let's get into this let's look at this real life example of a blockchain developer making over $4,000 per day with their training bot 100% verifiable on the blockchain I've got this transaction pull my screen screen here that we're going to go through in a minute as to see how this works but let me just kind of break this down first uh you have to understand what this trading butt is and how it works this is not a algorithmic trading bot that tries to predict what future cryptocurrency prices are going to do and then buy and sell based on this information this is an Arbitrage based Crypt trading bot that takes advantage of opportunities right now that happen on the blockchain and it uses flash loan so it doesn't even need the money that's going to trade and it can't lose any of this money and so I'm going to break down how everything works in this video today but if you want to see how to create your own Arbitrage crypto trading bot just like this then that's\n",
      "\n",
      "this then that's exactly what I'm going to show you inside the trading by master class this Thursday January 11th so make sure you hold your spot the link down below today all right so let's get back to what this developers doing here so again if you're doing the math over $4,000 per day adds up to roughly $120,000 per month in pure profit so that's absolutely insane right that's more than most people make their jobs in an entire year so I want to demystify how this process works and look at this real life example of a transaction where they made $3,500 roughly in profit all in one one go and how you can rinse and repeat this to where these profits can add up over time to get the type of result that they're talking about so you can see all the steps of the transaction here which is you know completely transparent all here on the blockchain you can just look at this on ether scan to see how it works we're going to break down each step here in a second but I want to start off with a simple example now before we fill in the details just you can get the high level overview and then we'll fill in the exact details of this particular transaction to see what they're doing all right so here's a high level diagram of how this works okay before we get into the specifics of this transaction so first of all you have to understand how Arbitrage works in the first place you're basically just buying cryptocurrency on one exchange and selling it on another exchange for a profit so basically if you bought $100 of cryptocurrency on one exchange and could sell on a different exchange for $101 because these cryptocurrency exchanges fall a sync you can make a $1 profit okay now that doesn't sound great but what if you did that with a th000 units of the cryptocurrency that'd be $1,000 in profit or you did it over and over and over again that could quickly add up okay and then the other aspect of this is The Flash loans so basically you can borrow the money for trading from a flash loan\"\n",
      "\n",
      "\n",
      "CONCISE SUMMARY:\u001b[0m\n",
      "\n",
      "\u001b[1m> Finished chain.\u001b[0m\n",
      "\n",
      "\u001b[1m> Finished chain.\u001b[0m\n",
      "Total Tokens: 973\n",
      "Prompt Tokens: 848\n",
      "Completion Tokens: 125\n",
      "Total Cost (USD): $0.001522\n",
      "The speaker discusses how a blockchain developer is making over $4,000 per day with an Arbitrage-based crypto trading bot, all verifiable on the blockchain. They explain the process of how the bot works, using flash loans to take advantage of opportunities on the blockchain. The speaker offers a master class to teach others how to create their own trading bot. They break down a real-life example of a transaction where the developer made $3,500 in profit, showing how these profits can add up over time. The speaker emphasizes the transparency of the process on the blockchain and the potential for significant profits in the crypto trading space.\n"
     ]
    }
   ],
   "source": [
    "with get_openai_callback() as cb:\n",
    "    chain =load_summarize_chain(llm, chain_type=\"stuff\", verbose=True)\n",
    "    tx = chain.run(texts[:2])\n",
    "    print(f\"Total Tokens: {cb. total_tokens}\")\n",
    "    print(f\"Prompt Tokens: {cb.prompt_tokens}\")\n",
    "    print(f\"Completion Tokens: {cb.completion_tokens}\")\n",
    "    print(f\"Total Cost (USD): ${cb.total_cost}\")\n",
    "    print(tx)"
   ]
  },
  {
   "cell_type": "code",
   "execution_count": 10,
   "metadata": {},
   "outputs": [
    {
     "ename": "",
     "evalue": "",
     "output_type": "error",
     "traceback": [
      "\u001b[1;31mThe Kernel crashed while executing code in the current cell or a previous cell. \n",
      "\u001b[1;31mPlease review the code in the cell(s) to identify a possible cause of the failure. \n",
      "\u001b[1;31mClick <a href='https://aka.ms/vscodeJupyterKernelCrash'>here</a> for more info. \n",
      "\u001b[1;31mView Jupyter <a href='command:jupyter.viewOutput'>log</a> for further details."
     ]
    }
   ],
   "source": [
    "# from transformers import T5Tokenizer, T5ForConditionalGeneration\n",
    "\n",
    "# tokenizer = T5Tokenizer.from_pretrained(\"google/flan-t5-base\")\n",
    "# model = T5ForConditionalGeneration.from_pretrained(\"google/flan-t5-base\")\n",
    "\n",
    "# input_text = f\"translate {tx} to German\"\n",
    "# input_ids = tokenizer(input_text, return_tensors=\"pt\").input_ids\n",
    "\n",
    "# # adjusting params for generating longer translations\n",
    "\n",
    "# outputs = model.generate(\n",
    "#     input_ids,\n",
    "#     max_length=300,\n",
    "#     num_beams=10,\n",
    "#     early_stopping=True\n",
    "# )\n",
    "\n",
    "# decoded_output =  tokenizer.decode(outputs[0], skip_special_tokens=True)\n",
    "# german_translation = decoded_output.split(\".\")[0].strip()\n",
    "# print(german_translation)\n",
    "from transformers import T5Tokenizer, T5ForConditionalGeneration\n",
    "\n",
    "tokenizer = T5Tokenizer.from_pretrained(\"google/flan-t5-base\")\n",
    "model = T5ForConditionalGeneration.from_pretrained(\"google/flan-t5-base\")\n",
    "\n",
    "input_text = f\"translate: {tx} to German\"\n",
    "input_ids = tokenizer(input_text, return_tensors=\"pt\").input_ids\n",
    "\n",
    "# adjusting params for generating longer translations\n",
    "outputs = model.generate(\n",
    "    input_ids,\n",
    "    max_length=300,\n",
    "    num_beams=10,\n",
    "    early_stopping=True\n",
    ")\n",
    "\n",
    "decoded_output = tokenizer.decode(outputs[0], skip_special_tokens=True)\n",
    "german_translation = decoded_output.split(\".\")[0].strip()\n",
    "print(german_translation)\n",
    "\n"
   ]
  },
  {
   "cell_type": "code",
   "execution_count": null,
   "metadata": {},
   "outputs": [],
   "source": []
  }
 ],
 "metadata": {
  "kernelspec": {
   "display_name": "langchain",
   "language": "python",
   "name": "python3"
  },
  "language_info": {
   "codemirror_mode": {
    "name": "ipython",
    "version": 3
   },
   "file_extension": ".py",
   "mimetype": "text/x-python",
   "name": "python",
   "nbconvert_exporter": "python",
   "pygments_lexer": "ipython3",
   "version": "3.9.18"
  }
 },
 "nbformat": 4,
 "nbformat_minor": 2
}
